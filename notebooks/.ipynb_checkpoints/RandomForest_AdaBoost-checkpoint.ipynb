{
 "cells": [
  {
   "cell_type": "markdown",
   "id": "d9b7c8e0-2377-4ac4-ac9b-ebb98fe89f60",
   "metadata": {},
   "source": [
    "# Random Forest and Adaboost Models"
   ]
  },
  {
   "cell_type": "markdown",
   "id": "243f20b4-b28d-4662-a260-0225310c16bb",
   "metadata": {},
   "source": [
    "## Import Libraries"
   ]
  },
  {
   "cell_type": "code",
   "execution_count": 1,
   "id": "bd4f498d-74fc-408a-b830-b525442700ee",
   "metadata": {
    "tags": []
   },
   "outputs": [],
   "source": [
    "import numpy as np\n",
    "import pandas as pd\n",
    "import matplotlib.pyplot as plt\n",
    "import seaborn as sns\n",
    "from sklearn.model_selection import train_test_split\n",
    "from sklearn.preprocessing import StandardScaler\n",
    "from sklearn.ensemble import RandomForestRegressor, AdaBoostRegressor\n",
    "from sklearn.metrics import mean_squared_error, mean_absolute_error, r2_score\n",
    "from sklearn.model_selection import RandomizedSearchCV\n",
    "from scipy.stats import randint as sp_randint, uniform\n",
    "import warnings"
   ]
  },
  {
   "cell_type": "code",
   "execution_count": 2,
   "id": "33aab6ad-8051-4304-a114-1b626dbfc9b7",
   "metadata": {
    "tags": []
   },
   "outputs": [],
   "source": [
    "warnings.filterwarnings(\"ignore\", category=FutureWarning)"
   ]
  },
  {
   "cell_type": "markdown",
   "id": "c4d5cf3d-ccf3-4fd1-ab43-b0b1b3774a25",
   "metadata": {},
   "source": [
    "## Load Data and Final Preprocessing"
   ]
  },
  {
   "cell_type": "code",
   "execution_count": 3,
   "id": "d522e630-3f7f-427e-9cc0-675033fa13b6",
   "metadata": {
    "tags": []
   },
   "outputs": [
    {
     "data": {
      "text/html": [
       "<div>\n",
       "<style scoped>\n",
       "    .dataframe tbody tr th:only-of-type {\n",
       "        vertical-align: middle;\n",
       "    }\n",
       "\n",
       "    .dataframe tbody tr th {\n",
       "        vertical-align: top;\n",
       "    }\n",
       "\n",
       "    .dataframe thead th {\n",
       "        text-align: right;\n",
       "    }\n",
       "</style>\n",
       "<table border=\"1\" class=\"dataframe\">\n",
       "  <thead>\n",
       "    <tr style=\"text-align: right;\">\n",
       "      <th></th>\n",
       "      <th>id</th>\n",
       "      <th>price</th>\n",
       "      <th>bedrooms</th>\n",
       "      <th>bathrooms</th>\n",
       "      <th>sqft_living</th>\n",
       "      <th>sqft_lot</th>\n",
       "      <th>floors</th>\n",
       "      <th>waterfront</th>\n",
       "      <th>view</th>\n",
       "      <th>condition</th>\n",
       "      <th>...</th>\n",
       "      <th>zipcode</th>\n",
       "      <th>lat</th>\n",
       "      <th>long</th>\n",
       "      <th>sqft_living15</th>\n",
       "      <th>sqft_lot15</th>\n",
       "      <th>year</th>\n",
       "      <th>month</th>\n",
       "      <th>day</th>\n",
       "      <th>total_sqft</th>\n",
       "      <th>total_sqft15</th>\n",
       "    </tr>\n",
       "  </thead>\n",
       "  <tbody>\n",
       "    <tr>\n",
       "      <th>0</th>\n",
       "      <td>7129300520</td>\n",
       "      <td>221900</td>\n",
       "      <td>3</td>\n",
       "      <td>1.00</td>\n",
       "      <td>1180</td>\n",
       "      <td>5650</td>\n",
       "      <td>1.0</td>\n",
       "      <td>0</td>\n",
       "      <td>0</td>\n",
       "      <td>3</td>\n",
       "      <td>...</td>\n",
       "      <td>98178</td>\n",
       "      <td>47.5112</td>\n",
       "      <td>-122.257</td>\n",
       "      <td>1340</td>\n",
       "      <td>5650</td>\n",
       "      <td>2014</td>\n",
       "      <td>10</td>\n",
       "      <td>13</td>\n",
       "      <td>6830</td>\n",
       "      <td>6990</td>\n",
       "    </tr>\n",
       "    <tr>\n",
       "      <th>1</th>\n",
       "      <td>6414100192</td>\n",
       "      <td>538000</td>\n",
       "      <td>3</td>\n",
       "      <td>2.25</td>\n",
       "      <td>2570</td>\n",
       "      <td>7242</td>\n",
       "      <td>2.0</td>\n",
       "      <td>0</td>\n",
       "      <td>0</td>\n",
       "      <td>3</td>\n",
       "      <td>...</td>\n",
       "      <td>98125</td>\n",
       "      <td>47.7210</td>\n",
       "      <td>-122.319</td>\n",
       "      <td>1690</td>\n",
       "      <td>7639</td>\n",
       "      <td>2014</td>\n",
       "      <td>12</td>\n",
       "      <td>9</td>\n",
       "      <td>9812</td>\n",
       "      <td>9329</td>\n",
       "    </tr>\n",
       "    <tr>\n",
       "      <th>2</th>\n",
       "      <td>5631500400</td>\n",
       "      <td>180000</td>\n",
       "      <td>2</td>\n",
       "      <td>1.00</td>\n",
       "      <td>770</td>\n",
       "      <td>10000</td>\n",
       "      <td>1.0</td>\n",
       "      <td>0</td>\n",
       "      <td>0</td>\n",
       "      <td>3</td>\n",
       "      <td>...</td>\n",
       "      <td>98028</td>\n",
       "      <td>47.7379</td>\n",
       "      <td>-122.233</td>\n",
       "      <td>2720</td>\n",
       "      <td>8062</td>\n",
       "      <td>2015</td>\n",
       "      <td>2</td>\n",
       "      <td>25</td>\n",
       "      <td>10770</td>\n",
       "      <td>10782</td>\n",
       "    </tr>\n",
       "    <tr>\n",
       "      <th>3</th>\n",
       "      <td>2487200875</td>\n",
       "      <td>604000</td>\n",
       "      <td>4</td>\n",
       "      <td>3.00</td>\n",
       "      <td>1960</td>\n",
       "      <td>5000</td>\n",
       "      <td>1.0</td>\n",
       "      <td>0</td>\n",
       "      <td>0</td>\n",
       "      <td>5</td>\n",
       "      <td>...</td>\n",
       "      <td>98136</td>\n",
       "      <td>47.5208</td>\n",
       "      <td>-122.393</td>\n",
       "      <td>1360</td>\n",
       "      <td>5000</td>\n",
       "      <td>2014</td>\n",
       "      <td>12</td>\n",
       "      <td>9</td>\n",
       "      <td>6960</td>\n",
       "      <td>6360</td>\n",
       "    </tr>\n",
       "    <tr>\n",
       "      <th>4</th>\n",
       "      <td>1954400510</td>\n",
       "      <td>510000</td>\n",
       "      <td>3</td>\n",
       "      <td>2.00</td>\n",
       "      <td>1680</td>\n",
       "      <td>8080</td>\n",
       "      <td>1.0</td>\n",
       "      <td>0</td>\n",
       "      <td>0</td>\n",
       "      <td>3</td>\n",
       "      <td>...</td>\n",
       "      <td>98074</td>\n",
       "      <td>47.6168</td>\n",
       "      <td>-122.045</td>\n",
       "      <td>1800</td>\n",
       "      <td>7503</td>\n",
       "      <td>2015</td>\n",
       "      <td>2</td>\n",
       "      <td>18</td>\n",
       "      <td>9760</td>\n",
       "      <td>9303</td>\n",
       "    </tr>\n",
       "  </tbody>\n",
       "</table>\n",
       "<p>5 rows × 25 columns</p>\n",
       "</div>"
      ],
      "text/plain": [
       "           id   price  bedrooms  bathrooms  sqft_living  sqft_lot  floors  \\\n",
       "0  7129300520  221900         3       1.00         1180      5650     1.0   \n",
       "1  6414100192  538000         3       2.25         2570      7242     2.0   \n",
       "2  5631500400  180000         2       1.00          770     10000     1.0   \n",
       "3  2487200875  604000         4       3.00         1960      5000     1.0   \n",
       "4  1954400510  510000         3       2.00         1680      8080     1.0   \n",
       "\n",
       "   waterfront  view  condition  ...  zipcode      lat     long  sqft_living15  \\\n",
       "0           0     0          3  ...    98178  47.5112 -122.257           1340   \n",
       "1           0     0          3  ...    98125  47.7210 -122.319           1690   \n",
       "2           0     0          3  ...    98028  47.7379 -122.233           2720   \n",
       "3           0     0          5  ...    98136  47.5208 -122.393           1360   \n",
       "4           0     0          3  ...    98074  47.6168 -122.045           1800   \n",
       "\n",
       "   sqft_lot15  year  month  day  total_sqft  total_sqft15  \n",
       "0        5650  2014     10   13        6830          6990  \n",
       "1        7639  2014     12    9        9812          9329  \n",
       "2        8062  2015      2   25       10770         10782  \n",
       "3        5000  2014     12    9        6960          6360  \n",
       "4        7503  2015      2   18        9760          9303  \n",
       "\n",
       "[5 rows x 25 columns]"
      ]
     },
     "execution_count": 3,
     "metadata": {},
     "output_type": "execute_result"
    }
   ],
   "source": [
    "data = pd.read_csv(\"cleaned_data.csv\")\n",
    "data.head()"
   ]
  },
  {
   "cell_type": "code",
   "execution_count": 4,
   "id": "5cde2d91-e96c-4bd4-89b3-7777fb7e782a",
   "metadata": {
    "tags": []
   },
   "outputs": [
    {
     "data": {
      "image/png": "[encoded data removed]",
      "text/plain": [
       "<Figure size 640x480 with 1 Axes>"
      ]
     },
     "metadata": {},
     "output_type": "display_data"
    }
   ],
   "source": [
    "# Analyzing The Target Variable \"price\"\n",
    "sns.histplot(data.price, kde=True)\n",
    "plt.title(\"Distribution of House Prices\")\n",
    "plt.xlabel(\"Price\")\n",
    "plt.ylabel(\"Frequency\")\n",
    "plt.show()"
   ]
  },
  {
   "cell_type": "markdown",
   "id": "1c32e9cb-8701-4da4-a698-7f83168aa201",
   "metadata": {},
   "source": [
    "The distribution above is right-skewed which means most prices are in the lower range. A logarithmic transformation to the price will make the distribution closer to normal which usually improves model performance."
   ]
  },
  {
   "cell_type": "code",
   "execution_count": 5,
   "id": "d6bc5b61-5330-4e5c-9612-568f47e202af",
   "metadata": {
    "tags": []
   },
   "outputs": [
    {
     "data": {
      "image/png": "[encoded data removed]",
      "text/plain": [
       "<Figure size 640x480 with 1 Axes>"
      ]
     },
     "metadata": {},
     "output_type": "display_data"
    }
   ],
   "source": [
    "data[\"log_price\"] = np.log(data.price)\n",
    "sns.histplot(data.log_price, kde=True)\n",
    "plt.title(\"Distribution of Log-Transformed House Prices\")\n",
    "plt.xlabel(\"Log (Price)\")\n",
    "plt.ylabel(\"Frequency\")\n",
    "plt.show()"
   ]
  },
  {
   "cell_type": "code",
   "execution_count": 6,
   "id": "fecd5a7d-e2a6-42ca-8d2e-c65ac0808672",
   "metadata": {
    "tags": []
   },
   "outputs": [],
   "source": [
    "data = data.drop(columns=[\"price\",\"id\"])"
   ]
  },
  {
   "cell_type": "markdown",
   "id": "6c34b5d8-10f0-40e8-9037-e332f8318e15",
   "metadata": {},
   "source": [
    "## Data Split"
   ]
  },
  {
   "cell_type": "code",
   "execution_count": 7,
   "id": "24e18534-d109-4d53-a802-1e465a6d6f54",
   "metadata": {
    "tags": []
   },
   "outputs": [
    {
     "data": {
      "text/plain": [
       "((17013, 23), (4254, 23), (17013,), (4254,))"
      ]
     },
     "execution_count": 7,
     "metadata": {},
     "output_type": "execute_result"
    }
   ],
   "source": [
    "X = data.drop(columns=[\"log_price\"]) # Features\n",
    "y = data[\"log_price\"] # Target variable\n",
    "\n",
    "# Splitting data to training (80%) and testing (20%) sets\n",
    "X_train, X_test, y_train, y_test = train_test_split(X, y, test_size=0.2, random_state=371)\n",
    "\n",
    "# Scaling the features\n",
    "scaler = StandardScaler()\n",
    "X_train_scaled = scaler.fit_transform(X_train)\n",
    "X_test_scaled = scaler.transform(X_test)\n",
    "\n",
    "X_train_scaled.shape, X_test_scaled.shape, y_train.shape, y_test.shape"
   ]
  },
  {
   "cell_type": "markdown",
   "id": "fbd9fc29-7162-414c-9f8a-8a9e9ada6026",
   "metadata": {},
   "source": [
    "## Models and Analysis"
   ]
  },
  {
   "cell_type": "markdown",
   "id": "926203c7-7a53-472d-a793-699810f9fb3c",
   "metadata": {
    "tags": []
   },
   "source": [
    "### Random Forest"
   ]
  },
  {
   "cell_type": "markdown",
   "id": "64751835-4ec6-435f-a3fd-e642bc5b1f8e",
   "metadata": {},
   "source": [
    "#### Initial Model"
   ]
  },
  {
   "cell_type": "code",
   "execution_count": 8,
   "id": "9faefc73-a299-4d54-b8a8-22ef73646db5",
   "metadata": {
    "tags": []
   },
   "outputs": [
    {
     "data": {
      "text/plain": [
       "(0.12312305499035867, 0.17671109227937595, 0.890049615016481)"
      ]
     },
     "execution_count": 8,
     "metadata": {},
     "output_type": "execute_result"
    }
   ],
   "source": [
    "# Training\n",
    "rf_model = RandomForestRegressor(random_state=371)\n",
    "rf_model.fit(X_train_scaled, y_train)\n",
    "\n",
    "# Predicting with the test data\n",
    "rf_predictions = rf_model.predict(X_test_scaled)\n",
    "\n",
    "# Evaluating the model\n",
    "rf_mae = mean_absolute_error(y_test, rf_predictions)\n",
    "rf_mse = mean_squared_error(y_test, rf_predictions)\n",
    "rf_rmse = np.sqrt(rf_mse)\n",
    "rf_r2 = r2_score(y_test, rf_predictions)\n",
    "\n",
    "rf_mae, rf_rmse, rf_r2"
   ]
  },
  {
   "cell_type": "markdown",
   "id": "45ae4f0c-8146-40b1-a4a9-2fc05156eafb",
   "metadata": {},
   "source": [
    "The initial random forest model has a strong performance in predicting the price.\n",
    "\n",
    "1. Mean absolute error (MAE): 0.123\n",
    "2. Root Mean Squared Error (RMSE): 0.177\n",
    "3. R²: 0.890"
   ]
  },
  {
   "cell_type": "markdown",
   "id": "6c7677b3-9d88-4f0a-93c8-4209f156cd21",
   "metadata": {},
   "source": [
    "#### Feature Importances"
   ]
  },
  {
   "cell_type": "code",
   "execution_count": 9,
   "id": "0465e51e-47a6-4c87-83cd-a9bbe4e1b95c",
   "metadata": {
    "tags": []
   },
   "outputs": [
    {
     "data": {
      "image/png": "[encoded data removed]",
      "text/plain": [
       "<Figure size 640x480 with 1 Axes>"
      ]
     },
     "metadata": {},
     "output_type": "display_data"
    }
   ],
   "source": [
    "# Finding importances of each feature\n",
    "feature_importances_rf = pd.DataFrame({\n",
    "    \"feature\": X.columns,\n",
    "    \"importance\": rf_model.feature_importances_\n",
    "}).sort_values(by=\"importance\", ascending=False)\n",
    "\n",
    "# Plotting importances\n",
    "sns.barplot(data=feature_importances_rf, x=\"importance\", y=\"feature\")\n",
    "plt.title(\"Feature Importances in the Initial Random Forest Model\")\n",
    "plt.xlabel(\"Importance\")\n",
    "plt.ylabel(\"Feature\")\n",
    "plt.show()"
   ]
  },
  {
   "cell_type": "code",
   "execution_count": 10,
   "id": "c4fc0b65-e1c8-4b04-8971-1f865f100d40",
   "metadata": {
    "tags": []
   },
   "outputs": [
    {
     "data": {
      "text/html": [
       "<div>\n",
       "<style scoped>\n",
       "    .dataframe tbody tr th:only-of-type {\n",
       "        vertical-align: middle;\n",
       "    }\n",
       "\n",
       "    .dataframe tbody tr th {\n",
       "        vertical-align: top;\n",
       "    }\n",
       "\n",
       "    .dataframe thead th {\n",
       "        text-align: right;\n",
       "    }\n",
       "</style>\n",
       "<table border=\"1\" class=\"dataframe\">\n",
       "  <thead>\n",
       "    <tr style=\"text-align: right;\">\n",
       "      <th></th>\n",
       "      <th>feature</th>\n",
       "      <th>importance</th>\n",
       "    </tr>\n",
       "  </thead>\n",
       "  <tbody>\n",
       "    <tr>\n",
       "      <th>14</th>\n",
       "      <td>lat</td>\n",
       "      <td>0.316903</td>\n",
       "    </tr>\n",
       "    <tr>\n",
       "      <th>8</th>\n",
       "      <td>grade</td>\n",
       "      <td>0.282955</td>\n",
       "    </tr>\n",
       "    <tr>\n",
       "      <th>2</th>\n",
       "      <td>sqft_living</td>\n",
       "      <td>0.214522</td>\n",
       "    </tr>\n",
       "    <tr>\n",
       "      <th>15</th>\n",
       "      <td>long</td>\n",
       "      <td>0.044940</td>\n",
       "    </tr>\n",
       "    <tr>\n",
       "      <th>16</th>\n",
       "      <td>sqft_living15</td>\n",
       "      <td>0.024081</td>\n",
       "    </tr>\n",
       "    <tr>\n",
       "      <th>11</th>\n",
       "      <td>yr_built</td>\n",
       "      <td>0.018427</td>\n",
       "    </tr>\n",
       "    <tr>\n",
       "      <th>9</th>\n",
       "      <td>sqft_above</td>\n",
       "      <td>0.013043</td>\n",
       "    </tr>\n",
       "    <tr>\n",
       "      <th>13</th>\n",
       "      <td>zipcode</td>\n",
       "      <td>0.009671</td>\n",
       "    </tr>\n",
       "    <tr>\n",
       "      <th>6</th>\n",
       "      <td>view</td>\n",
       "      <td>0.008746</td>\n",
       "    </tr>\n",
       "    <tr>\n",
       "      <th>22</th>\n",
       "      <td>total_sqft15</td>\n",
       "      <td>0.008644</td>\n",
       "    </tr>\n",
       "    <tr>\n",
       "      <th>21</th>\n",
       "      <td>total_sqft</td>\n",
       "      <td>0.008165</td>\n",
       "    </tr>\n",
       "    <tr>\n",
       "      <th>3</th>\n",
       "      <td>sqft_lot</td>\n",
       "      <td>0.006808</td>\n",
       "    </tr>\n",
       "    <tr>\n",
       "      <th>20</th>\n",
       "      <td>day</td>\n",
       "      <td>0.006559</td>\n",
       "    </tr>\n",
       "    <tr>\n",
       "      <th>5</th>\n",
       "      <td>waterfront</td>\n",
       "      <td>0.006431</td>\n",
       "    </tr>\n",
       "    <tr>\n",
       "      <th>17</th>\n",
       "      <td>sqft_lot15</td>\n",
       "      <td>0.006176</td>\n",
       "    </tr>\n",
       "    <tr>\n",
       "      <th>19</th>\n",
       "      <td>month</td>\n",
       "      <td>0.005606</td>\n",
       "    </tr>\n",
       "    <tr>\n",
       "      <th>1</th>\n",
       "      <td>bathrooms</td>\n",
       "      <td>0.004651</td>\n",
       "    </tr>\n",
       "    <tr>\n",
       "      <th>7</th>\n",
       "      <td>condition</td>\n",
       "      <td>0.004463</td>\n",
       "    </tr>\n",
       "    <tr>\n",
       "      <th>10</th>\n",
       "      <td>sqft_basement</td>\n",
       "      <td>0.002882</td>\n",
       "    </tr>\n",
       "    <tr>\n",
       "      <th>0</th>\n",
       "      <td>bedrooms</td>\n",
       "      <td>0.002577</td>\n",
       "    </tr>\n",
       "    <tr>\n",
       "      <th>4</th>\n",
       "      <td>floors</td>\n",
       "      <td>0.001281</td>\n",
       "    </tr>\n",
       "    <tr>\n",
       "      <th>18</th>\n",
       "      <td>year</td>\n",
       "      <td>0.001259</td>\n",
       "    </tr>\n",
       "    <tr>\n",
       "      <th>12</th>\n",
       "      <td>yr_renovated</td>\n",
       "      <td>0.001210</td>\n",
       "    </tr>\n",
       "  </tbody>\n",
       "</table>\n",
       "</div>"
      ],
      "text/plain": [
       "          feature  importance\n",
       "14            lat    0.316903\n",
       "8           grade    0.282955\n",
       "2     sqft_living    0.214522\n",
       "15           long    0.044940\n",
       "16  sqft_living15    0.024081\n",
       "11       yr_built    0.018427\n",
       "9      sqft_above    0.013043\n",
       "13        zipcode    0.009671\n",
       "6            view    0.008746\n",
       "22   total_sqft15    0.008644\n",
       "21     total_sqft    0.008165\n",
       "3        sqft_lot    0.006808\n",
       "20            day    0.006559\n",
       "5      waterfront    0.006431\n",
       "17     sqft_lot15    0.006176\n",
       "19          month    0.005606\n",
       "1       bathrooms    0.004651\n",
       "7       condition    0.004463\n",
       "10  sqft_basement    0.002882\n",
       "0        bedrooms    0.002577\n",
       "4          floors    0.001281\n",
       "18           year    0.001259\n",
       "12   yr_renovated    0.001210"
      ]
     },
     "execution_count": 10,
     "metadata": {},
     "output_type": "execute_result"
    }
   ],
   "source": [
    "feature_importances_rf"
   ]
  },
  {
   "cell_type": "markdown",
   "id": "00f534c8-cc0e-4abe-bff4-d13260e56393",
   "metadata": {},
   "source": [
    "The feature importance analysis of the initial model reveals that the most influential features in predicting price are:\n",
    "\n",
    "1. \"lat\" (latitude): 0.317 \n",
    "2. \"grade\": 0.283 \n",
    "3. \"sqft_living\": 0.215\n",
    "\n",
    "These features play a significant role in determining house prices, as indicated by their higher importance values in the model."
   ]
  },
  {
   "cell_type": "markdown",
   "id": "9471146e-3b9b-4d5c-9b6a-dba306ad4f0e",
   "metadata": {},
   "source": [
    "#### Hyperparameter Tuning"
   ]
  },
  {
   "cell_type": "code",
   "execution_count": 16,
   "id": "07ad95f0-4ebe-4d63-ae5a-c5f00ac86182",
   "metadata": {
    "tags": []
   },
   "outputs": [
    {
     "name": "stdout",
     "output_type": "stream",
     "text": [
      "Fitting 5 folds for each of 10 candidates, totalling 50 fits\n"
     ]
    },
    {
     "data": {
      "text/plain": [
       "{'max_depth': 30,\n",
       " 'min_samples_leaf': 2,\n",
       " 'min_samples_split': 7,\n",
       " 'n_estimators': 179}"
      ]
     },
     "execution_count": 16,
     "metadata": {},
     "output_type": "execute_result"
    }
   ],
   "source": [
    "# Parameter distribution\n",
    "param_dist = {\n",
    "    \"n_estimators\": sp_randint(50, 200),\n",
    "    \"max_depth\": [None, 10, 20, 30, 40],\n",
    "    \"min_samples_split\": sp_randint(2, 11),\n",
    "    \"min_samples_leaf\": sp_randint(1, 5)\n",
    "}\n",
    "\n",
    "# Randomized Search with Cross-Validation\n",
    "random_search = RandomizedSearchCV(estimator=RandomForestRegressor(random_state=371),\n",
    "                                   param_distributions=param_dist,\n",
    "                                   n_iter=10,\n",
    "                                   cv=5,\n",
    "                                   n_jobs=-1,\n",
    "                                   random_state=42,\n",
    "                                   verbose=2)\n",
    "\n",
    "# Fit Randomized Search\n",
    "random_search.fit(X_train_scaled, y_train)\n",
    "\n",
    "# Best Parameters\n",
    "best_params_rf = random_search.best_params_\n",
    "best_params_rf"
   ]
  },
  {
   "cell_type": "markdown",
   "id": "709ef171-ed9f-4fb2-8232-212052d7e094",
   "metadata": {},
   "source": [
    "The randomized search with cross-validation searched for the best combination of hyperparameters within specified ranges in the param_dist to find the best hyperparameters, which are:\n",
    "\n",
    "* \"max_depth\": 30\n",
    "* \"min_samples_leaf\": 2\n",
    "* \"min_samples_split\": 7\n",
    "* \"n_estimators\": 179\n",
    "\n",
    "It is expected that these hyperparameters result in a higher predictive performance than the initial model."
   ]
  },
  {
   "cell_type": "markdown",
   "id": "e74c3086-6c3f-4c56-bd8a-63051bb36ddb",
   "metadata": {},
   "source": [
    "#### Model Retraining and Evaluation"
   ]
  },
  {
   "cell_type": "code",
   "execution_count": 18,
   "id": "8bce04f8-ef7f-446d-ad01-edaa1e25774b",
   "metadata": {
    "tags": []
   },
   "outputs": [
    {
     "data": {
      "text/plain": [
       "(0.1225942850853021, 0.17586021218303366, 0.8911059081556776)"
      ]
     },
     "execution_count": 18,
     "metadata": {},
     "output_type": "execute_result"
    }
   ],
   "source": [
    "# To avoid running the hyperparameter tuning over and over\n",
    "best_params_rf = {\"max_depth\": 30, \"min_samples_leaf\": 2, \"min_samples_split\": 7, \"n_estimators\": 179}\n",
    "\n",
    "# Re-training the model\n",
    "tuned_model = RandomForestRegressor(**best_params_rf, random_state=371)\n",
    "tuned_model.fit(X_train_scaled, y_train)\n",
    "\n",
    "# Predict on the test set\n",
    "tuned_predictions = tuned_model.predict(X_test_scaled)\n",
    "\n",
    "# Evaluate the tuned model\n",
    "tuned_mae = mean_absolute_error(y_test, tuned_predictions)\n",
    "tuned_rmse = np.sqrt(mean_squared_error(y_test, tuned_predictions))\n",
    "tuned_r2 = r2_score(y_test, tuned_predictions)\n",
    "\n",
    "tuned_mae, tuned_rmse, tuned_r2"
   ]
  },
  {
   "cell_type": "code",
   "execution_count": 12,
   "id": "e9cb3681-05af-4bf8-8517-71df34b1d691",
   "metadata": {
    "tags": []
   },
   "outputs": [
    {
     "data": {
      "text/plain": [
       "(-0.0005287699050565697, -0.0008508800963422936, 0.0010562931391965291)"
      ]
     },
     "execution_count": 12,
     "metadata": {},
     "output_type": "execute_result"
    }
   ],
   "source": [
    "mae_difference = tuned_mae - rf_mae\n",
    "rmse_difference = tuned_rmse - rf_rmse\n",
    "r2_difference = tuned_r2 - rf_r2\n",
    "\n",
    "mae_difference, rmse_difference, r2_difference"
   ]
  },
  {
   "cell_type": "markdown",
   "id": "c6d46198-d400-479e-bc38-df0ffe945f4d",
   "metadata": {},
   "source": [
    "The tuned random forest model shows a **slightly improved performance** compared to the initial model.\n",
    "\n",
    "* Mean absolute error (MAE): Approximately 0.1226. **Lower by about -0.0005** from initial model.\n",
    "* Root mean squared error (RMSE): Approximately 0.1759. **Lower by about -0.0009** from initial model.\n",
    "* R²: Approximately 0.8911. **Higher by about -0.0011** from initial model.\n",
    "\n",
    "These results indicate the tuned model provides a slightly better fit to the data and improved predictive accuracy compared to the initial model."
   ]
  },
  {
   "cell_type": "code",
   "execution_count": 13,
   "id": "ac46ba44-0ec0-4ef5-92cc-2c0f25c535f8",
   "metadata": {
    "tags": []
   },
   "outputs": [
    {
     "data": {
      "image/png": "[encoded data removed]",
      "text/plain": [
       "<Figure size 1200x400 with 2 Axes>"
      ]
     },
     "metadata": {},
     "output_type": "display_data"
    }
   ],
   "source": [
    "# Feature Importance Analysis\n",
    "feature_importances_rf_tuned = pd.DataFrame({\n",
    "    \"feature\": X.columns,\n",
    "    \"importance\": tuned_model.feature_importances_\n",
    "}).sort_values(by='importance', ascending=False)\n",
    "\n",
    "\n",
    "# Plotting the Intial and Tuned Model Feature Importances\n",
    "fig, axes = plt.subplots(1, 2, figsize=(12, 4))\n",
    "\n",
    "sns.barplot(data=feature_importances_rf, x=\"importance\", y=\"feature\", ax=axes[0])\n",
    "axes[0].set_title(\"Feature Importances in the Initial Random Forest Model\")\n",
    "axes[0].set_xlabel(\"Importance\")\n",
    "axes[0].set_ylabel(\"Feature\")\n",
    "\n",
    "sns.barplot(data=feature_importances_rf_tuned, x=\"importance\", y=\"feature\", ax=axes[1])\n",
    "axes[1].set_title(\"Feature Importances in the Tuned Random Forest Model\")\n",
    "axes[1].set_xlabel(\"Importance\")\n",
    "axes[1].set_ylabel(\"Feature\")\n",
    "\n",
    "plt.tight_layout()\n",
    "plt.show()"
   ]
  },
  {
   "cell_type": "code",
   "execution_count": 14,
   "id": "86efdfd3-0996-41fb-b248-329c0466a902",
   "metadata": {
    "tags": []
   },
   "outputs": [
    {
     "data": {
      "text/plain": [
       "(          feature  importance\n",
       " 14            lat    0.316903\n",
       " 8           grade    0.282955\n",
       " 2     sqft_living    0.214522\n",
       " 15           long    0.044940\n",
       " 16  sqft_living15    0.024081\n",
       " 11       yr_built    0.018427\n",
       " 9      sqft_above    0.013043\n",
       " 13        zipcode    0.009671\n",
       " 6            view    0.008746\n",
       " 22   total_sqft15    0.008644\n",
       " 21     total_sqft    0.008165\n",
       " 3        sqft_lot    0.006808\n",
       " 20            day    0.006559\n",
       " 5      waterfront    0.006431\n",
       " 17     sqft_lot15    0.006176\n",
       " 19          month    0.005606\n",
       " 1       bathrooms    0.004651\n",
       " 7       condition    0.004463\n",
       " 10  sqft_basement    0.002882\n",
       " 0        bedrooms    0.002577\n",
       " 4          floors    0.001281\n",
       " 18           year    0.001259\n",
       " 12   yr_renovated    0.001210,\n",
       "           feature  importance\n",
       " 14            lat    0.325106\n",
       " 8           grade    0.280245\n",
       " 2     sqft_living    0.223629\n",
       " 15           long    0.044551\n",
       " 16  sqft_living15    0.023167\n",
       " 11       yr_built    0.017269\n",
       " 9      sqft_above    0.012307\n",
       " 13        zipcode    0.009390\n",
       " 6            view    0.008481\n",
       " 22   total_sqft15    0.007655\n",
       " 21     total_sqft    0.007074\n",
       " 5      waterfront    0.006150\n",
       " 3        sqft_lot    0.005634\n",
       " 17     sqft_lot15    0.005297\n",
       " 20            day    0.005243\n",
       " 19          month    0.004436\n",
       " 1       bathrooms    0.003853\n",
       " 7       condition    0.003595\n",
       " 10  sqft_basement    0.002281\n",
       " 0        bedrooms    0.001843\n",
       " 18           year    0.000980\n",
       " 4          floors    0.000978\n",
       " 12   yr_renovated    0.000837)"
      ]
     },
     "execution_count": 14,
     "metadata": {},
     "output_type": "execute_result"
    }
   ],
   "source": [
    "feature_importances_rf, feature_importances_rf_tuned"
   ]
  },
  {
   "cell_type": "markdown",
   "id": "98d845fa-78c9-4171-a7da-367a591cd1fd",
   "metadata": {},
   "source": [
    "In the tuned model, \"lat\" (latitude) remains the most important feature, followed by \"grade\" and \"sqft_living,\" with importance values of approximately 0.325, 0.280, and 0.224. Notably, the tuned model slightly increases the importance of \"lat\" compared to the initial model."
   ]
  },
  {
   "cell_type": "markdown",
   "id": "f6845bcf-b14f-48cd-93ff-a6bf384f1efa",
   "metadata": {},
   "source": [
    "### Adaboost"
   ]
  },
  {
   "cell_type": "markdown",
   "id": "7a0fefb1-e857-4eab-9cf1-8b52f23a6b3a",
   "metadata": {},
   "source": [
    "#### Initial Model"
   ]
  },
  {
   "cell_type": "code",
   "execution_count": 15,
   "id": "07ab044f-fc52-4a21-895b-df8807202c61",
   "metadata": {
    "tags": []
   },
   "outputs": [
    {
     "data": {
      "text/plain": [
       "(0.19229571195092432, 0.2492552187731803, 0.7812451694521361)"
      ]
     },
     "execution_count": 15,
     "metadata": {},
     "output_type": "execute_result"
    }
   ],
   "source": [
    "# Training the AdaBoost model\n",
    "ab_model = AdaBoostRegressor(random_state=42)\n",
    "ab_model.fit(X_train_scaled, y_train)\n",
    "\n",
    "# Predicting on the test set\n",
    "ab_predictions = ab_model.predict(X_test_scaled)\n",
    "\n",
    "# Evaluating the AdaBoost model\n",
    "ab_mae = mean_absolute_error(y_test, ab_predictions)\n",
    "ab_mse = mean_squared_error(y_test, ab_predictions)\n",
    "ab_rmse = np.sqrt(ab_mse)\n",
    "ab_r2 = r2_score(y_test, ab_predictions)\n",
    "\n",
    "ab_mae, ab_rmse, ab_r2"
   ]
  },
  {
   "cell_type": "markdown",
   "id": "9aa90a51-2428-4b18-bdd6-296680205c54",
   "metadata": {},
   "source": [
    "The initial AdaBoost performace:\n",
    "\n",
    "1. Mean Absolute Error (MAE): 0.192\n",
    "2. Root Mean Squared Error (RMSE): 0.249\n",
    "3. R² (R-squared): 0.781\n",
    "\n",
    "The AdaBoost model shows reasonable performance, but it has a higher MAE and RMSE compared to the initial random forest models, suggesting the random forest model may initially outperform AdaBoost in this context. Random Forest's are known for its exceptionally high accuracy so this result was expected"
   ]
  },
  {
   "cell_type": "markdown",
   "id": "a0c99c6d-0037-4882-9969-1de0095d641a",
   "metadata": {
    "tags": []
   },
   "source": [
    "#### Feature Importances"
   ]
  },
  {
   "cell_type": "code",
   "execution_count": 16,
   "id": "48b07a56-17fe-4e7b-a289-c3051b40344d",
   "metadata": {
    "tags": []
   },
   "outputs": [
    {
     "data": {
      "image/png": "[encoded data removed]",
      "text/plain": [
       "<Figure size 640x480 with 1 Axes>"
      ]
     },
     "metadata": {},
     "output_type": "display_data"
    }
   ],
   "source": [
    "# Analyzing feature importance in the initial Adaboost model\n",
    "feature_importances_ab = pd.DataFrame({\n",
    "    \"feature\": X.columns,\n",
    "    \"importance\": ab_model.feature_importances_\n",
    "}).sort_values(by=\"importance\", ascending=False)\n",
    "\n",
    "# Plotting the feature importances\n",
    "sns.barplot(data=feature_importances_ab, x=\"importance\", y=\"feature\")\n",
    "plt.title(\"Feature Importances in the Initial Adaboost Model\")\n",
    "plt.xlabel(\"Importance\")\n",
    "plt.ylabel(\"Feature\")\n",
    "plt.show()"
   ]
  },
  {
   "cell_type": "code",
   "execution_count": 17,
   "id": "0002d4a2-64ab-469f-acaa-bd6ddf30cff5",
   "metadata": {
    "tags": []
   },
   "outputs": [
    {
     "data": {
      "text/html": [
       "<div>\n",
       "<style scoped>\n",
       "    .dataframe tbody tr th:only-of-type {\n",
       "        vertical-align: middle;\n",
       "    }\n",
       "\n",
       "    .dataframe tbody tr th {\n",
       "        vertical-align: top;\n",
       "    }\n",
       "\n",
       "    .dataframe thead th {\n",
       "        text-align: right;\n",
       "    }\n",
       "</style>\n",
       "<table border=\"1\" class=\"dataframe\">\n",
       "  <thead>\n",
       "    <tr style=\"text-align: right;\">\n",
       "      <th></th>\n",
       "      <th>feature</th>\n",
       "      <th>importance</th>\n",
       "    </tr>\n",
       "  </thead>\n",
       "  <tbody>\n",
       "    <tr>\n",
       "      <th>2</th>\n",
       "      <td>sqft_living</td>\n",
       "      <td>0.377690</td>\n",
       "    </tr>\n",
       "    <tr>\n",
       "      <th>8</th>\n",
       "      <td>grade</td>\n",
       "      <td>0.151061</td>\n",
       "    </tr>\n",
       "    <tr>\n",
       "      <th>14</th>\n",
       "      <td>lat</td>\n",
       "      <td>0.140706</td>\n",
       "    </tr>\n",
       "    <tr>\n",
       "      <th>9</th>\n",
       "      <td>sqft_above</td>\n",
       "      <td>0.109471</td>\n",
       "    </tr>\n",
       "    <tr>\n",
       "      <th>16</th>\n",
       "      <td>sqft_living15</td>\n",
       "      <td>0.078574</td>\n",
       "    </tr>\n",
       "    <tr>\n",
       "      <th>6</th>\n",
       "      <td>view</td>\n",
       "      <td>0.036536</td>\n",
       "    </tr>\n",
       "    <tr>\n",
       "      <th>1</th>\n",
       "      <td>bathrooms</td>\n",
       "      <td>0.032410</td>\n",
       "    </tr>\n",
       "    <tr>\n",
       "      <th>15</th>\n",
       "      <td>long</td>\n",
       "      <td>0.024757</td>\n",
       "    </tr>\n",
       "    <tr>\n",
       "      <th>7</th>\n",
       "      <td>condition</td>\n",
       "      <td>0.017330</td>\n",
       "    </tr>\n",
       "    <tr>\n",
       "      <th>11</th>\n",
       "      <td>yr_built</td>\n",
       "      <td>0.014084</td>\n",
       "    </tr>\n",
       "    <tr>\n",
       "      <th>5</th>\n",
       "      <td>waterfront</td>\n",
       "      <td>0.003564</td>\n",
       "    </tr>\n",
       "    <tr>\n",
       "      <th>20</th>\n",
       "      <td>day</td>\n",
       "      <td>0.003550</td>\n",
       "    </tr>\n",
       "    <tr>\n",
       "      <th>21</th>\n",
       "      <td>total_sqft</td>\n",
       "      <td>0.003454</td>\n",
       "    </tr>\n",
       "    <tr>\n",
       "      <th>19</th>\n",
       "      <td>month</td>\n",
       "      <td>0.002352</td>\n",
       "    </tr>\n",
       "    <tr>\n",
       "      <th>3</th>\n",
       "      <td>sqft_lot</td>\n",
       "      <td>0.001861</td>\n",
       "    </tr>\n",
       "    <tr>\n",
       "      <th>17</th>\n",
       "      <td>sqft_lot15</td>\n",
       "      <td>0.001813</td>\n",
       "    </tr>\n",
       "    <tr>\n",
       "      <th>22</th>\n",
       "      <td>total_sqft15</td>\n",
       "      <td>0.000785</td>\n",
       "    </tr>\n",
       "    <tr>\n",
       "      <th>13</th>\n",
       "      <td>zipcode</td>\n",
       "      <td>0.000000</td>\n",
       "    </tr>\n",
       "    <tr>\n",
       "      <th>18</th>\n",
       "      <td>year</td>\n",
       "      <td>0.000000</td>\n",
       "    </tr>\n",
       "    <tr>\n",
       "      <th>12</th>\n",
       "      <td>yr_renovated</td>\n",
       "      <td>0.000000</td>\n",
       "    </tr>\n",
       "    <tr>\n",
       "      <th>10</th>\n",
       "      <td>sqft_basement</td>\n",
       "      <td>0.000000</td>\n",
       "    </tr>\n",
       "    <tr>\n",
       "      <th>4</th>\n",
       "      <td>floors</td>\n",
       "      <td>0.000000</td>\n",
       "    </tr>\n",
       "    <tr>\n",
       "      <th>0</th>\n",
       "      <td>bedrooms</td>\n",
       "      <td>0.000000</td>\n",
       "    </tr>\n",
       "  </tbody>\n",
       "</table>\n",
       "</div>"
      ],
      "text/plain": [
       "          feature  importance\n",
       "2     sqft_living    0.377690\n",
       "8           grade    0.151061\n",
       "14            lat    0.140706\n",
       "9      sqft_above    0.109471\n",
       "16  sqft_living15    0.078574\n",
       "6            view    0.036536\n",
       "1       bathrooms    0.032410\n",
       "15           long    0.024757\n",
       "7       condition    0.017330\n",
       "11       yr_built    0.014084\n",
       "5      waterfront    0.003564\n",
       "20            day    0.003550\n",
       "21     total_sqft    0.003454\n",
       "19          month    0.002352\n",
       "3        sqft_lot    0.001861\n",
       "17     sqft_lot15    0.001813\n",
       "22   total_sqft15    0.000785\n",
       "13        zipcode    0.000000\n",
       "18           year    0.000000\n",
       "12   yr_renovated    0.000000\n",
       "10  sqft_basement    0.000000\n",
       "4          floors    0.000000\n",
       "0        bedrooms    0.000000"
      ]
     },
     "execution_count": 17,
     "metadata": {},
     "output_type": "execute_result"
    }
   ],
   "source": [
    "feature_importances_ab"
   ]
  },
  {
   "cell_type": "markdown",
   "id": "cdb60549-1c49-485d-be72-7bc38d6d3c3e",
   "metadata": {},
   "source": [
    "The initial AdaBoost model's feature importance analysis reveals the importance scores:\n",
    "\n",
    "1. \"sqft_living\": 0.378\n",
    "2. \"grade\": 0.151\n",
    "3. \"lat\": 0.141\n",
    "\n",
    "\"sqft_living\" is the most influential predictor, followed by \"grade\" and \"lat.\" Several features have no importance: \"zipcode,\" \"year,\" \"yr_renovated,\" \"sqft_basement,\" \"floors,\" and \"bedrooms\" which indicates their limited contribution to predicting house prices in this model."
   ]
  },
  {
   "cell_type": "markdown",
   "id": "e3fbb544-f194-4d32-8c57-56b817217857",
   "metadata": {},
   "source": [
    "#### Hyperparameter Tuning"
   ]
  },
  {
   "cell_type": "code",
   "execution_count": 47,
   "id": "9fbbc60e-f7ab-402f-85ce-77769b6ddb5e",
   "metadata": {
    "tags": []
   },
   "outputs": [
    {
     "name": "stdout",
     "output_type": "stream",
     "text": [
      "Fitting 5 folds for each of 10 candidates, totalling 50 fits\n"
     ]
    },
    {
     "data": {
      "text/plain": [
       "{'learning_rate': 0.7059324640867174, 'n_estimators': 44}"
      ]
     },
     "execution_count": 47,
     "metadata": {},
     "output_type": "execute_result"
    }
   ],
   "source": [
    "param_dist_ab = {\n",
    "    \"n_estimators\": sp_randint(30, 200),\n",
    "    \"learning_rate\": uniform(0.01, 1)\n",
    "}\n",
    "\n",
    "# Randomized Search with Cross-Validation\n",
    "random_search_ab = RandomizedSearchCV(estimator=AdaBoostRegressor(random_state=370),\n",
    "                                      param_distributions=param_dist_ab,\n",
    "                                      n_iter=10,\n",
    "                                      cv=5,\n",
    "                                      n_jobs=-1,\n",
    "                                      random_state=371,\n",
    "                                      verbose=2)\n",
    "\n",
    "random_search_ab.fit(X_train_scaled, y_train)\n",
    "\n",
    "# Best Parameters\n",
    "best_params_ab = random_search_ab.best_params_\n",
    "best_params_ab"
   ]
  },
  {
   "cell_type": "markdown",
   "id": "f851f4e3-b033-49bb-bf97-7d6c2264df81",
   "metadata": {},
   "source": [
    "Randomized Search with Cross-Validation for hyperparameter tuning of the AdaBoostRegressor found the best parameters:\n",
    "\n",
    "* Number of Estimators (n_estimators): 44\n",
    "* Learning Rate (learning_rate): 0.7059"
   ]
  },
  {
   "cell_type": "markdown",
   "id": "152897b7-2995-4c69-a4b5-d8ef86411356",
   "metadata": {
    "tags": []
   },
   "source": [
    "#### Model Retraining and Evaluation"
   ]
  },
  {
   "cell_type": "code",
   "execution_count": 20,
   "id": "dc9c2d59-d2a6-430a-a988-bfc072ad9f88",
   "metadata": {
    "tags": []
   },
   "outputs": [
    {
     "data": {
      "text/plain": [
       "(0.19772798606561545, 0.2554805785600402, 0.7701815381358825)"
      ]
     },
     "execution_count": 20,
     "metadata": {},
     "output_type": "execute_result"
    }
   ],
   "source": [
    "# To avoid running the hyperparameter tuning over and over\n",
    "best_params_ab = {\"learning_rate\": 0.7059324640867174, \"n_estimators\": 44}\n",
    "\n",
    "# Retrain model\n",
    "tuned_ab_model = AdaBoostRegressor(**best_params_ab, random_state=371)\n",
    "tuned_ab_model.fit(X_train_scaled, y_train)\n",
    "\n",
    "# Predict on the test set\n",
    "tuned_ab_predictions = tuned_ab_model.predict(X_test_scaled)\n",
    "\n",
    "# Evaluate the tuned model\n",
    "tuned_ab_mae = mean_absolute_error(y_test, tuned_ab_predictions)\n",
    "tuned_ab_rmse = np.sqrt(mean_squared_error(y_test, tuned_ab_predictions))\n",
    "tuned_ab_r2 = r2_score(y_test, tuned_ab_predictions)\n",
    "\n",
    "tuned_ab_mae, tuned_ab_rmse, tuned_ab_r2"
   ]
  },
  {
   "cell_type": "code",
   "execution_count": 21,
   "id": "d334dfba-4bc9-449c-9509-d4e894db47a9",
   "metadata": {
    "tags": []
   },
   "outputs": [
    {
     "data": {
      "text/plain": [
       "(0.005432274114691132, 0.0062253597868598964, -0.011063631316253542)"
      ]
     },
     "execution_count": 21,
     "metadata": {},
     "output_type": "execute_result"
    }
   ],
   "source": [
    "mae_difference = tuned_ab_mae - ab_mae\n",
    "rmse_difference = tuned_ab_rmse - ab_rmse\n",
    "r2_difference = tuned_ab_r2 - ab_r2\n",
    "\n",
    "mae_difference, rmse_difference, r2_difference"
   ]
  },
  {
   "cell_type": "markdown",
   "id": "acbdff6d-d07c-4f42-8dcc-2209dd48bd26",
   "metadata": {},
   "source": [
    "The tuned AdaBoost model shows a **slightly lower performance** compared to the initial model.\n",
    "\n",
    "* Mean Absolute Error (MAE): Approximately 0.1977. **Higher by about 0.0054** from the initial model.\n",
    "* Root Mean Squared Error (RMSE): Approximately 0.2555. **Higher by about 0.0067** from the initial model.\n",
    "* R²: Approximately 0.7702. **Lower by about 0.0110** from the initial model.\n",
    "\n",
    "These results indicate that the tuned model provides slightly worse predictive performance compared to the initial model."
   ]
  },
  {
   "cell_type": "code",
   "execution_count": 22,
   "id": "5a9c965f-822a-4e03-a212-05db907d898b",
   "metadata": {
    "tags": []
   },
   "outputs": [
    {
     "data": {
      "image/png": "[encoded data removed]",
      "text/plain": [
       "<Figure size 640x480 with 1 Axes>"
      ]
     },
     "metadata": {},
     "output_type": "display_data"
    }
   ],
   "source": [
    "# Feature Importance Analysis\n",
    "feature_importances_ab_tuned = pd.DataFrame({\n",
    "    \"feature\": X.columns,\n",
    "    'importance': tuned_ab_model.feature_importances_\n",
    "}).sort_values(by='importance', ascending=False)\n",
    "\n",
    "# Plotting the feature importances\n",
    "sns.barplot(data=feature_importances_ab_tuned, x=\"importance\", y=\"feature\")\n",
    "plt.title(\"Feature Importances in the Tuned Adaboost Model\")\n",
    "plt.xlabel(\"Importance\")\n",
    "plt.ylabel(\"Feature\")\n",
    "plt.show()"
   ]
  },
  {
   "cell_type": "code",
   "execution_count": 23,
   "id": "7f51f38b-27d2-48b6-bd1c-ffb10b324df5",
   "metadata": {
    "tags": []
   },
   "outputs": [
    {
     "data": {
      "text/html": [
       "<div>\n",
       "<style scoped>\n",
       "    .dataframe tbody tr th:only-of-type {\n",
       "        vertical-align: middle;\n",
       "    }\n",
       "\n",
       "    .dataframe tbody tr th {\n",
       "        vertical-align: top;\n",
       "    }\n",
       "\n",
       "    .dataframe thead th {\n",
       "        text-align: right;\n",
       "    }\n",
       "</style>\n",
       "<table border=\"1\" class=\"dataframe\">\n",
       "  <thead>\n",
       "    <tr style=\"text-align: right;\">\n",
       "      <th></th>\n",
       "      <th>feature</th>\n",
       "      <th>importance</th>\n",
       "    </tr>\n",
       "  </thead>\n",
       "  <tbody>\n",
       "    <tr>\n",
       "      <th>2</th>\n",
       "      <td>sqft_living</td>\n",
       "      <td>0.387388</td>\n",
       "    </tr>\n",
       "    <tr>\n",
       "      <th>8</th>\n",
       "      <td>grade</td>\n",
       "      <td>0.187781</td>\n",
       "    </tr>\n",
       "    <tr>\n",
       "      <th>14</th>\n",
       "      <td>lat</td>\n",
       "      <td>0.157062</td>\n",
       "    </tr>\n",
       "    <tr>\n",
       "      <th>9</th>\n",
       "      <td>sqft_above</td>\n",
       "      <td>0.115159</td>\n",
       "    </tr>\n",
       "    <tr>\n",
       "      <th>16</th>\n",
       "      <td>sqft_living15</td>\n",
       "      <td>0.068292</td>\n",
       "    </tr>\n",
       "    <tr>\n",
       "      <th>6</th>\n",
       "      <td>view</td>\n",
       "      <td>0.038595</td>\n",
       "    </tr>\n",
       "    <tr>\n",
       "      <th>7</th>\n",
       "      <td>condition</td>\n",
       "      <td>0.013655</td>\n",
       "    </tr>\n",
       "    <tr>\n",
       "      <th>15</th>\n",
       "      <td>long</td>\n",
       "      <td>0.013346</td>\n",
       "    </tr>\n",
       "    <tr>\n",
       "      <th>11</th>\n",
       "      <td>yr_built</td>\n",
       "      <td>0.007731</td>\n",
       "    </tr>\n",
       "    <tr>\n",
       "      <th>5</th>\n",
       "      <td>waterfront</td>\n",
       "      <td>0.003517</td>\n",
       "    </tr>\n",
       "    <tr>\n",
       "      <th>13</th>\n",
       "      <td>zipcode</td>\n",
       "      <td>0.002758</td>\n",
       "    </tr>\n",
       "    <tr>\n",
       "      <th>21</th>\n",
       "      <td>total_sqft</td>\n",
       "      <td>0.002229</td>\n",
       "    </tr>\n",
       "    <tr>\n",
       "      <th>1</th>\n",
       "      <td>bathrooms</td>\n",
       "      <td>0.001675</td>\n",
       "    </tr>\n",
       "    <tr>\n",
       "      <th>3</th>\n",
       "      <td>sqft_lot</td>\n",
       "      <td>0.000812</td>\n",
       "    </tr>\n",
       "    <tr>\n",
       "      <th>18</th>\n",
       "      <td>year</td>\n",
       "      <td>0.000000</td>\n",
       "    </tr>\n",
       "    <tr>\n",
       "      <th>20</th>\n",
       "      <td>day</td>\n",
       "      <td>0.000000</td>\n",
       "    </tr>\n",
       "    <tr>\n",
       "      <th>19</th>\n",
       "      <td>month</td>\n",
       "      <td>0.000000</td>\n",
       "    </tr>\n",
       "    <tr>\n",
       "      <th>0</th>\n",
       "      <td>bedrooms</td>\n",
       "      <td>0.000000</td>\n",
       "    </tr>\n",
       "    <tr>\n",
       "      <th>17</th>\n",
       "      <td>sqft_lot15</td>\n",
       "      <td>0.000000</td>\n",
       "    </tr>\n",
       "    <tr>\n",
       "      <th>12</th>\n",
       "      <td>yr_renovated</td>\n",
       "      <td>0.000000</td>\n",
       "    </tr>\n",
       "    <tr>\n",
       "      <th>10</th>\n",
       "      <td>sqft_basement</td>\n",
       "      <td>0.000000</td>\n",
       "    </tr>\n",
       "    <tr>\n",
       "      <th>4</th>\n",
       "      <td>floors</td>\n",
       "      <td>0.000000</td>\n",
       "    </tr>\n",
       "    <tr>\n",
       "      <th>22</th>\n",
       "      <td>total_sqft15</td>\n",
       "      <td>0.000000</td>\n",
       "    </tr>\n",
       "  </tbody>\n",
       "</table>\n",
       "</div>"
      ],
      "text/plain": [
       "          feature  importance\n",
       "2     sqft_living    0.387388\n",
       "8           grade    0.187781\n",
       "14            lat    0.157062\n",
       "9      sqft_above    0.115159\n",
       "16  sqft_living15    0.068292\n",
       "6            view    0.038595\n",
       "7       condition    0.013655\n",
       "15           long    0.013346\n",
       "11       yr_built    0.007731\n",
       "5      waterfront    0.003517\n",
       "13        zipcode    0.002758\n",
       "21     total_sqft    0.002229\n",
       "1       bathrooms    0.001675\n",
       "3        sqft_lot    0.000812\n",
       "18           year    0.000000\n",
       "20            day    0.000000\n",
       "19          month    0.000000\n",
       "0        bedrooms    0.000000\n",
       "17     sqft_lot15    0.000000\n",
       "12   yr_renovated    0.000000\n",
       "10  sqft_basement    0.000000\n",
       "4          floors    0.000000\n",
       "22   total_sqft15    0.000000"
      ]
     },
     "execution_count": 23,
     "metadata": {},
     "output_type": "execute_result"
    }
   ],
   "source": [
    "feature_importances_ab_tuned"
   ]
  },
  {
   "cell_type": "markdown",
   "id": "237cb739-dc4a-4296-8cdc-c295cf5f2375",
   "metadata": {},
   "source": [
    "The tuned AdaBoost model's feature importance differs from the initial AdaBoost feature importance by placing slightly more importance on \"sqft_living\" and \"grade\" while reducing the importance of other features."
   ]
  },
  {
   "cell_type": "markdown",
   "id": "b1e17c22-1d4f-4e11-99e9-fc0e16dcd9f4",
   "metadata": {},
   "source": [
    "## Conclusion"
   ]
  },
  {
   "cell_type": "markdown",
   "id": "5d1d1896-5eaa-4ab7-bfe3-35e9f9e6afe9",
   "metadata": {},
   "source": [
    "Based on the predictive analysis using the Random Forest and AdaBoost models, several key insights emerged. Initially, the Random Forest model displayed strong predictive performance with a high R² value and relatively low errors (MAE and RMSE). Feature importance analysis showed that latitude, grade, and square footage of living space were the top predictors. Hyperparameter tuning further improved the model's accuracy, very a very slim amount. For the AdaBoost model, although it showed reasonable performance, it was outperformed by the Random Forest model. The most influential features in the AdaBoost model were similar to those in the Random Forest model. However, the tuned AdaBoost model did not improve upon the initial model's performance and actually showed a slight decrease in accuracy. Overall, the Random Forest model stands out as the more effective model for predicting house prices in this dataset, demonstrating robustness and accuracy, particularly after hyperparameter tuning. The feature importance analyses in both models highlight key factors influencing housing prices, with location (latitude), property grade, and living area size being the most significant."
   ]
  }
 ],
 "metadata": {
  "kernelspec": {
   "display_name": "Python 3 (ipykernel)",
   "language": "python",
   "name": "python3"
  },
  "language_info": {
   "codemirror_mode": {
    "name": "ipython",
    "version": 3
   },
   "file_extension": ".py",
   "mimetype": "text/x-python",
   "name": "python",
   "nbconvert_exporter": "python",
   "pygments_lexer": "ipython3",
   "version": "3.11.5"
  }
 },
 "nbformat": 4,
 "nbformat_minor": 5
}
