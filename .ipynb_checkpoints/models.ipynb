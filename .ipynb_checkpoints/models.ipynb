{
 "cells": [
  {
   "cell_type": "code",
   "execution_count": 1,
   "metadata": {
    "_cell_guid": "b1076dfc-b9ad-4769-8c92-a6c4dae69d19",
    "_uuid": "8f2839f25d086af736a60e9eeb907d3b93b6e0e5",
    "execution": {
     "iopub.execute_input": "2023-11-22T21:10:11.540554Z",
     "iopub.status.busy": "2023-11-22T21:10:11.540224Z",
     "iopub.status.idle": "2023-11-22T21:10:12.372006Z",
     "shell.execute_reply": "2023-11-22T21:10:12.371051Z",
     "shell.execute_reply.started": "2023-11-22T21:10:11.540528Z"
    }
   },
   "outputs": [],
   "source": [
    "import pandas as pd\n",
    "import numpy as np\n",
    "import csv\n",
    "import matplotlib.pyplot as plt\n",
    "import seaborn as sns\n",
    "from sklearn.model_selection import train_test_split\n",
    "from sklearn.linear_model import LinearRegression, Ridge , Lasso\n",
    "from sklearn.tree import DecisionTreeRegressor\n",
    "from sklearn.ensemble import RandomForestRegressor\n",
    "from sklearn.metrics import r2_score\n",
    "from sklearn.metrics import mean_squared_error\n",
    "from sklearn.metrics import mean_absolute_error"
   ]
  },
  {
   "cell_type": "code",
   "execution_count": 2,
   "metadata": {
    "execution": {
     "iopub.execute_input": "2023-11-22T21:10:12.373885Z",
     "iopub.status.busy": "2023-11-22T21:10:12.373481Z",
     "iopub.status.idle": "2023-11-22T21:10:12.413469Z",
     "shell.execute_reply": "2023-11-22T21:10:12.412655Z",
     "shell.execute_reply.started": "2023-11-22T21:10:12.37386Z"
    }
   },
   "outputs": [],
   "source": [
    "df=pd.read_csv('/Users/jainabajawara/Downloads/downloaded_stufff/cleaned_data.csv')"
   ]
  },
  {
   "cell_type": "code",
   "execution_count": 3,
   "metadata": {
    "execution": {
     "iopub.execute_input": "2023-11-22T21:10:12.414715Z",
     "iopub.status.busy": "2023-11-22T21:10:12.414484Z",
     "iopub.status.idle": "2023-11-22T21:10:12.438598Z",
     "shell.execute_reply": "2023-11-22T21:10:12.437844Z",
     "shell.execute_reply.started": "2023-11-22T21:10:12.414695Z"
    }
   },
   "outputs": [
    {
     "name": "stdout",
     "output_type": "stream",
     "text": [
      "(21267, 25)\n"
     ]
    },
    {
     "data": {
      "text/html": [
       "<div>\n",
       "<style scoped>\n",
       "    .dataframe tbody tr th:only-of-type {\n",
       "        vertical-align: middle;\n",
       "    }\n",
       "\n",
       "    .dataframe tbody tr th {\n",
       "        vertical-align: top;\n",
       "    }\n",
       "\n",
       "    .dataframe thead th {\n",
       "        text-align: right;\n",
       "    }\n",
       "</style>\n",
       "<table border=\"1\" class=\"dataframe\">\n",
       "  <thead>\n",
       "    <tr style=\"text-align: right;\">\n",
       "      <th></th>\n",
       "      <th>id</th>\n",
       "      <th>price</th>\n",
       "      <th>bedrooms</th>\n",
       "      <th>bathrooms</th>\n",
       "      <th>sqft_living</th>\n",
       "      <th>sqft_lot</th>\n",
       "      <th>floors</th>\n",
       "      <th>waterfront</th>\n",
       "      <th>view</th>\n",
       "      <th>condition</th>\n",
       "      <th>...</th>\n",
       "      <th>zipcode</th>\n",
       "      <th>lat</th>\n",
       "      <th>long</th>\n",
       "      <th>sqft_living15</th>\n",
       "      <th>sqft_lot15</th>\n",
       "      <th>year</th>\n",
       "      <th>month</th>\n",
       "      <th>day</th>\n",
       "      <th>total_sqft</th>\n",
       "      <th>total_sqft15</th>\n",
       "    </tr>\n",
       "  </thead>\n",
       "  <tbody>\n",
       "    <tr>\n",
       "      <th>0</th>\n",
       "      <td>7129300520</td>\n",
       "      <td>221900</td>\n",
       "      <td>3</td>\n",
       "      <td>1.00</td>\n",
       "      <td>1180</td>\n",
       "      <td>5650</td>\n",
       "      <td>1.0</td>\n",
       "      <td>0</td>\n",
       "      <td>0</td>\n",
       "      <td>3</td>\n",
       "      <td>...</td>\n",
       "      <td>98178</td>\n",
       "      <td>47.5112</td>\n",
       "      <td>-122.257</td>\n",
       "      <td>1340</td>\n",
       "      <td>5650</td>\n",
       "      <td>2014</td>\n",
       "      <td>10</td>\n",
       "      <td>13</td>\n",
       "      <td>6830</td>\n",
       "      <td>6990</td>\n",
       "    </tr>\n",
       "    <tr>\n",
       "      <th>1</th>\n",
       "      <td>6414100192</td>\n",
       "      <td>538000</td>\n",
       "      <td>3</td>\n",
       "      <td>2.25</td>\n",
       "      <td>2570</td>\n",
       "      <td>7242</td>\n",
       "      <td>2.0</td>\n",
       "      <td>0</td>\n",
       "      <td>0</td>\n",
       "      <td>3</td>\n",
       "      <td>...</td>\n",
       "      <td>98125</td>\n",
       "      <td>47.7210</td>\n",
       "      <td>-122.319</td>\n",
       "      <td>1690</td>\n",
       "      <td>7639</td>\n",
       "      <td>2014</td>\n",
       "      <td>12</td>\n",
       "      <td>9</td>\n",
       "      <td>9812</td>\n",
       "      <td>9329</td>\n",
       "    </tr>\n",
       "    <tr>\n",
       "      <th>2</th>\n",
       "      <td>5631500400</td>\n",
       "      <td>180000</td>\n",
       "      <td>2</td>\n",
       "      <td>1.00</td>\n",
       "      <td>770</td>\n",
       "      <td>10000</td>\n",
       "      <td>1.0</td>\n",
       "      <td>0</td>\n",
       "      <td>0</td>\n",
       "      <td>3</td>\n",
       "      <td>...</td>\n",
       "      <td>98028</td>\n",
       "      <td>47.7379</td>\n",
       "      <td>-122.233</td>\n",
       "      <td>2720</td>\n",
       "      <td>8062</td>\n",
       "      <td>2015</td>\n",
       "      <td>2</td>\n",
       "      <td>25</td>\n",
       "      <td>10770</td>\n",
       "      <td>10782</td>\n",
       "    </tr>\n",
       "    <tr>\n",
       "      <th>3</th>\n",
       "      <td>2487200875</td>\n",
       "      <td>604000</td>\n",
       "      <td>4</td>\n",
       "      <td>3.00</td>\n",
       "      <td>1960</td>\n",
       "      <td>5000</td>\n",
       "      <td>1.0</td>\n",
       "      <td>0</td>\n",
       "      <td>0</td>\n",
       "      <td>5</td>\n",
       "      <td>...</td>\n",
       "      <td>98136</td>\n",
       "      <td>47.5208</td>\n",
       "      <td>-122.393</td>\n",
       "      <td>1360</td>\n",
       "      <td>5000</td>\n",
       "      <td>2014</td>\n",
       "      <td>12</td>\n",
       "      <td>9</td>\n",
       "      <td>6960</td>\n",
       "      <td>6360</td>\n",
       "    </tr>\n",
       "    <tr>\n",
       "      <th>4</th>\n",
       "      <td>1954400510</td>\n",
       "      <td>510000</td>\n",
       "      <td>3</td>\n",
       "      <td>2.00</td>\n",
       "      <td>1680</td>\n",
       "      <td>8080</td>\n",
       "      <td>1.0</td>\n",
       "      <td>0</td>\n",
       "      <td>0</td>\n",
       "      <td>3</td>\n",
       "      <td>...</td>\n",
       "      <td>98074</td>\n",
       "      <td>47.6168</td>\n",
       "      <td>-122.045</td>\n",
       "      <td>1800</td>\n",
       "      <td>7503</td>\n",
       "      <td>2015</td>\n",
       "      <td>2</td>\n",
       "      <td>18</td>\n",
       "      <td>9760</td>\n",
       "      <td>9303</td>\n",
       "    </tr>\n",
       "    <tr>\n",
       "      <th>5</th>\n",
       "      <td>7237550310</td>\n",
       "      <td>1225000</td>\n",
       "      <td>4</td>\n",
       "      <td>4.50</td>\n",
       "      <td>5420</td>\n",
       "      <td>101930</td>\n",
       "      <td>1.0</td>\n",
       "      <td>0</td>\n",
       "      <td>0</td>\n",
       "      <td>3</td>\n",
       "      <td>...</td>\n",
       "      <td>98053</td>\n",
       "      <td>47.6561</td>\n",
       "      <td>-122.005</td>\n",
       "      <td>4760</td>\n",
       "      <td>101930</td>\n",
       "      <td>2014</td>\n",
       "      <td>5</td>\n",
       "      <td>12</td>\n",
       "      <td>107350</td>\n",
       "      <td>106690</td>\n",
       "    </tr>\n",
       "    <tr>\n",
       "      <th>6</th>\n",
       "      <td>1321400060</td>\n",
       "      <td>257500</td>\n",
       "      <td>3</td>\n",
       "      <td>2.25</td>\n",
       "      <td>1715</td>\n",
       "      <td>6819</td>\n",
       "      <td>2.0</td>\n",
       "      <td>0</td>\n",
       "      <td>0</td>\n",
       "      <td>3</td>\n",
       "      <td>...</td>\n",
       "      <td>98003</td>\n",
       "      <td>47.3097</td>\n",
       "      <td>-122.327</td>\n",
       "      <td>2238</td>\n",
       "      <td>6819</td>\n",
       "      <td>2014</td>\n",
       "      <td>6</td>\n",
       "      <td>27</td>\n",
       "      <td>8534</td>\n",
       "      <td>9057</td>\n",
       "    </tr>\n",
       "    <tr>\n",
       "      <th>7</th>\n",
       "      <td>2008000270</td>\n",
       "      <td>291850</td>\n",
       "      <td>3</td>\n",
       "      <td>1.50</td>\n",
       "      <td>1060</td>\n",
       "      <td>9711</td>\n",
       "      <td>1.0</td>\n",
       "      <td>0</td>\n",
       "      <td>0</td>\n",
       "      <td>3</td>\n",
       "      <td>...</td>\n",
       "      <td>98198</td>\n",
       "      <td>47.4095</td>\n",
       "      <td>-122.315</td>\n",
       "      <td>1650</td>\n",
       "      <td>9711</td>\n",
       "      <td>2015</td>\n",
       "      <td>1</td>\n",
       "      <td>15</td>\n",
       "      <td>10771</td>\n",
       "      <td>11361</td>\n",
       "    </tr>\n",
       "    <tr>\n",
       "      <th>8</th>\n",
       "      <td>2414600126</td>\n",
       "      <td>229500</td>\n",
       "      <td>3</td>\n",
       "      <td>1.00</td>\n",
       "      <td>1780</td>\n",
       "      <td>7470</td>\n",
       "      <td>1.0</td>\n",
       "      <td>0</td>\n",
       "      <td>0</td>\n",
       "      <td>3</td>\n",
       "      <td>...</td>\n",
       "      <td>98146</td>\n",
       "      <td>47.5123</td>\n",
       "      <td>-122.337</td>\n",
       "      <td>1780</td>\n",
       "      <td>8113</td>\n",
       "      <td>2015</td>\n",
       "      <td>4</td>\n",
       "      <td>15</td>\n",
       "      <td>9250</td>\n",
       "      <td>9893</td>\n",
       "    </tr>\n",
       "    <tr>\n",
       "      <th>9</th>\n",
       "      <td>3793500160</td>\n",
       "      <td>323000</td>\n",
       "      <td>3</td>\n",
       "      <td>2.50</td>\n",
       "      <td>1890</td>\n",
       "      <td>6560</td>\n",
       "      <td>2.0</td>\n",
       "      <td>0</td>\n",
       "      <td>0</td>\n",
       "      <td>3</td>\n",
       "      <td>...</td>\n",
       "      <td>98038</td>\n",
       "      <td>47.3684</td>\n",
       "      <td>-122.031</td>\n",
       "      <td>2390</td>\n",
       "      <td>7570</td>\n",
       "      <td>2015</td>\n",
       "      <td>3</td>\n",
       "      <td>12</td>\n",
       "      <td>8450</td>\n",
       "      <td>9960</td>\n",
       "    </tr>\n",
       "  </tbody>\n",
       "</table>\n",
       "<p>10 rows × 25 columns</p>\n",
       "</div>"
      ],
      "text/plain": [
       "           id    price  bedrooms  bathrooms  sqft_living  sqft_lot  floors  \\\n",
       "0  7129300520   221900         3       1.00         1180      5650     1.0   \n",
       "1  6414100192   538000         3       2.25         2570      7242     2.0   \n",
       "2  5631500400   180000         2       1.00          770     10000     1.0   \n",
       "3  2487200875   604000         4       3.00         1960      5000     1.0   \n",
       "4  1954400510   510000         3       2.00         1680      8080     1.0   \n",
       "5  7237550310  1225000         4       4.50         5420    101930     1.0   \n",
       "6  1321400060   257500         3       2.25         1715      6819     2.0   \n",
       "7  2008000270   291850         3       1.50         1060      9711     1.0   \n",
       "8  2414600126   229500         3       1.00         1780      7470     1.0   \n",
       "9  3793500160   323000         3       2.50         1890      6560     2.0   \n",
       "\n",
       "   waterfront  view  condition  ...  zipcode      lat     long  sqft_living15  \\\n",
       "0           0     0          3  ...    98178  47.5112 -122.257           1340   \n",
       "1           0     0          3  ...    98125  47.7210 -122.319           1690   \n",
       "2           0     0          3  ...    98028  47.7379 -122.233           2720   \n",
       "3           0     0          5  ...    98136  47.5208 -122.393           1360   \n",
       "4           0     0          3  ...    98074  47.6168 -122.045           1800   \n",
       "5           0     0          3  ...    98053  47.6561 -122.005           4760   \n",
       "6           0     0          3  ...    98003  47.3097 -122.327           2238   \n",
       "7           0     0          3  ...    98198  47.4095 -122.315           1650   \n",
       "8           0     0          3  ...    98146  47.5123 -122.337           1780   \n",
       "9           0     0          3  ...    98038  47.3684 -122.031           2390   \n",
       "\n",
       "   sqft_lot15  year  month  day  total_sqft  total_sqft15  \n",
       "0        5650  2014     10   13        6830          6990  \n",
       "1        7639  2014     12    9        9812          9329  \n",
       "2        8062  2015      2   25       10770         10782  \n",
       "3        5000  2014     12    9        6960          6360  \n",
       "4        7503  2015      2   18        9760          9303  \n",
       "5      101930  2014      5   12      107350        106690  \n",
       "6        6819  2014      6   27        8534          9057  \n",
       "7        9711  2015      1   15       10771         11361  \n",
       "8        8113  2015      4   15        9250          9893  \n",
       "9        7570  2015      3   12        8450          9960  \n",
       "\n",
       "[10 rows x 25 columns]"
      ]
     },
     "execution_count": 3,
     "metadata": {},
     "output_type": "execute_result"
    }
   ],
   "source": [
    "print(df.shape)\n",
    "df.head(10)"
   ]
  },
  {
   "cell_type": "code",
   "execution_count": null,
   "metadata": {
    "execution": {
     "iopub.execute_input": "2023-11-22T21:10:12.454572Z",
     "iopub.status.busy": "2023-11-22T21:10:12.454337Z",
     "iopub.status.idle": "2023-11-22T21:10:12.459959Z",
     "shell.execute_reply": "2023-11-22T21:10:12.459077Z",
     "shell.execute_reply.started": "2023-11-22T21:10:12.454553Z"
    }
   },
   "outputs": [],
   "source": []
  },
  {
   "cell_type": "code",
   "execution_count": null,
   "metadata": {
    "execution": {
     "iopub.execute_input": "2023-11-22T21:10:12.461126Z",
     "iopub.status.busy": "2023-11-22T21:10:12.46079Z",
     "iopub.status.idle": "2023-11-22T21:10:13.75631Z",
     "shell.execute_reply": "2023-11-22T21:10:13.755298Z",
     "shell.execute_reply.started": "2023-11-22T21:10:12.461106Z"
    }
   },
   "outputs": [],
   "source": [
    "corr = df.corr()\n",
    "\n",
    "fig , ax = plt.subplots(figsize=(25 , 20))\n",
    "\n",
    "\n",
    "sns.heatmap(corr ,annot= True , ax=ax , cmap= 'Blues');"
   ]
  },
  {
   "cell_type": "code",
   "execution_count": 5,
   "metadata": {},
   "outputs": [],
   "source": [
    "X = df.drop(columns=['price','waterfront', 'month', 'bathrooms','condition','sqft_basement','bedrooms','floors',\n",
    "'year', 'yr_renovated'],axis=1)\n",
    "y = df['price']"
   ]
  },
  {
   "cell_type": "code",
   "execution_count": 6,
   "metadata": {
    "execution": {
     "iopub.execute_input": "2023-11-22T21:10:13.76577Z",
     "iopub.status.busy": "2023-11-22T21:10:13.764999Z",
     "iopub.status.idle": "2023-11-22T21:10:13.782023Z",
     "shell.execute_reply": "2023-11-22T21:10:13.781066Z",
     "shell.execute_reply.started": "2023-11-22T21:10:13.765742Z"
    }
   },
   "outputs": [],
   "source": [
    "X1 = df.drop(columns=['price'])\n",
    "y1 = df['price']"
   ]
  },
  {
   "cell_type": "code",
   "execution_count": 7,
   "metadata": {
    "execution": {
     "iopub.execute_input": "2023-11-22T21:10:13.783503Z",
     "iopub.status.busy": "2023-11-22T21:10:13.783123Z",
     "iopub.status.idle": "2023-11-22T21:10:13.79731Z",
     "shell.execute_reply": "2023-11-22T21:10:13.79639Z",
     "shell.execute_reply.started": "2023-11-22T21:10:13.783472Z"
    }
   },
   "outputs": [
    {
     "name": "stdout",
     "output_type": "stream",
     "text": [
      "X_train shape: (17013, 15)\n",
      "y_train shape: (17013,)\n",
      "X_test shape: (4254, 15)\n",
      "y_test shape: (4254,)\n"
     ]
    }
   ],
   "source": [
    "X_train , X_test , y_train , y_test = train_test_split(X ,y ,test_size=0.2 , random_state=42 )\n",
    "print(\"X_train shape:\", X_train.shape)\n",
    "print(\"y_train shape:\", y_train.shape)\n",
    "print(\"X_test shape:\", X_test.shape)\n",
    "print(\"y_test shape:\", y_test.shape)"
   ]
  },
  {
   "cell_type": "code",
   "execution_count": 8,
   "metadata": {
    "execution": {
     "iopub.execute_input": "2023-11-22T21:10:13.800615Z",
     "iopub.status.busy": "2023-11-22T21:10:13.800354Z",
     "iopub.status.idle": "2023-11-22T21:10:13.812787Z",
     "shell.execute_reply": "2023-11-22T21:10:13.81188Z",
     "shell.execute_reply.started": "2023-11-22T21:10:13.800594Z"
    }
   },
   "outputs": [
    {
     "name": "stdout",
     "output_type": "stream",
     "text": [
      "X1_train shape: (17013, 24)\n",
      "y1_train shape: (17013,)\n",
      "X1_test shape: (4254, 24)\n",
      "y1_test shape: (4254,)\n"
     ]
    }
   ],
   "source": [
    "X1_train , X1_test , y1_train , y1_test = train_test_split(X1 ,y1 ,test_size=0.2 , random_state=42 )\n",
    "print(\"X1_train shape:\", X1_train.shape)\n",
    "print(\"y1_train shape:\", y1_train.shape)\n",
    "print(\"X1_test shape:\", X1_test.shape)\n",
    "print(\"y1_test shape:\", y1_test.shape)"
   ]
  },
  {
   "cell_type": "code",
   "execution_count": null,
   "metadata": {
    "execution": {
     "iopub.execute_input": "2023-11-22T21:10:13.814175Z",
     "iopub.status.busy": "2023-11-22T21:10:13.813891Z",
     "iopub.status.idle": "2023-11-22T21:10:13.828163Z",
     "shell.execute_reply": "2023-11-22T21:10:13.827193Z",
     "shell.execute_reply.started": "2023-11-22T21:10:13.814112Z"
    }
   },
   "outputs": [],
   "source": []
  },
  {
   "cell_type": "code",
   "execution_count": 9,
   "metadata": {
    "execution": {
     "iopub.execute_input": "2023-11-22T21:10:13.839909Z",
     "iopub.status.busy": "2023-11-22T21:10:13.839031Z",
     "iopub.status.idle": "2023-11-22T21:10:13.873904Z",
     "shell.execute_reply": "2023-11-22T21:10:13.873009Z",
     "shell.execute_reply.started": "2023-11-22T21:10:13.839881Z"
    }
   },
   "outputs": [
    {
     "name": "stdout",
     "output_type": "stream",
     "text": [
      "Mean Absolute Error: 130840.6249167027\n",
      "Mean Squared Error: 44393022914.03917\n",
      "Root Mean Squared Error: 210696.51851428198\n",
      "R-squared Score: 0.675706030099832\n"
     ]
    }
   ],
   "source": [
    "lr = LinearRegression()\n",
    "lr.fit(X_train, y_train)\n",
    "lr_pred = lr.predict(X_test)\n",
    "\n",
    "rf_mae = mean_absolute_error(y_test, lr_pred)\n",
    "rf_mse = mean_squared_error(y_test, lr_pred)\n",
    "rf_rmse = np.sqrt(rf_mse)\n",
    "rf_r2 = r2_score(y_test, lr_pred)\n",
    "\n",
    "print(\"Mean Absolute Error:\", rf_mae)\n",
    "print(\"Mean Squared Error:\", rf_mse)\n",
    "print(\"Root Mean Squared Error:\", rf_rmse)\n",
    "print(\"R-squared Score:\", rf_r2)\n"
   ]
  },
  {
   "cell_type": "code",
   "execution_count": 10,
   "metadata": {
    "execution": {
     "iopub.execute_input": "2023-11-22T21:10:13.875382Z",
     "iopub.status.busy": "2023-11-22T21:10:13.875096Z",
     "iopub.status.idle": "2023-11-22T21:10:13.90424Z",
     "shell.execute_reply": "2023-11-22T21:10:13.90352Z",
     "shell.execute_reply.started": "2023-11-22T21:10:13.875358Z"
    }
   },
   "outputs": [
    {
     "name": "stdout",
     "output_type": "stream",
     "text": [
      "Ridge Model Metrics:\n",
      "Mean Absolute Error: 130824.02775036493\n",
      "Mean Squared Error: 44393627596.18255\n",
      "Root Mean Squared Error: 210697.95346937413\n",
      "R-squared Score: 0.6757016128567623\n"
     ]
    },
    {
     "name": "stderr",
     "output_type": "stream",
     "text": [
      "/Users/jainabajawara/opt/anaconda3/lib/python3.8/site-packages/sklearn/linear_model/_ridge.py:200: LinAlgWarning: Ill-conditioned matrix (rcond=7.10675e-24): result may not be accurate.\n",
      "  return linalg.solve(A, Xy, assume_a=\"pos\", overwrite_a=True).T\n"
     ]
    }
   ],
   "source": [
    "rg = Ridge()\n",
    "rg.fit(X_train, y_train)\n",
    "rg_pred = rg.predict(X_test)\n",
    "\n",
    "rg_mae = mean_absolute_error(y_test, rg_pred)\n",
    "rg_mse = mean_squared_error(y_test, rg_pred)\n",
    "rg_rmse = np.sqrt(rg_mse)\n",
    "rg_r2 = r2_score(y_test, rg_pred)\n",
    "\n",
    "print(\"Ridge Model Metrics:\")\n",
    "print(\"Mean Absolute Error:\", rg_mae)\n",
    "print(\"Mean Squared Error:\", rg_mse)\n",
    "print(\"Root Mean Squared Error:\", rg_rmse)\n",
    "print(\"R-squared Score:\", rg_r2)\n"
   ]
  },
  {
   "cell_type": "code",
   "execution_count": 12,
   "metadata": {
    "execution": {
     "iopub.execute_input": "2023-11-22T21:10:13.906535Z",
     "iopub.status.busy": "2023-11-22T21:10:13.905176Z",
     "iopub.status.idle": "2023-11-22T21:10:13.966401Z",
     "shell.execute_reply": "2023-11-22T21:10:13.965581Z",
     "shell.execute_reply.started": "2023-11-22T21:10:13.906511Z"
    }
   },
   "outputs": [
    {
     "name": "stdout",
     "output_type": "stream",
     "text": [
      "Lasso Model Metrics:\n",
      "Mean Absolute Error: 130839.6850679229\n",
      "Mean Squared Error: 44393068098.83461\n",
      "Root Mean Squared Error: 210696.62574145466\n",
      "R-squared Score: 0.6757057000219113\n"
     ]
    }
   ],
   "source": [
    "lo = Lasso(max_iter=2000)\n",
    "lo.fit(X_train, y_train)\n",
    "lo_pred = lo.predict(X_test)\n",
    "\n",
    "lo_mae = mean_absolute_error(y_test, lo_pred)\n",
    "lo_mse = mean_squared_error(y_test, lo_pred)\n",
    "lo_rmse = np.sqrt(lo_mse)\n",
    "lo_r2 = r2_score(y_test, lo_pred)\n",
    "\n",
    "print(\"Lasso Model Metrics:\")\n",
    "print(\"Mean Absolute Error:\", lo_mae)\n",
    "print(\"Mean Squared Error:\", lo_mse)\n",
    "print(\"Root Mean Squared Error:\", lo_rmse)\n",
    "print(\"R-squared Score:\", lo_r2)\n"
   ]
  },
  {
   "cell_type": "code",
   "execution_count": 13,
   "metadata": {
    "execution": {
     "iopub.execute_input": "2023-11-22T21:10:13.967723Z",
     "iopub.status.busy": "2023-11-22T21:10:13.96745Z",
     "iopub.status.idle": "2023-11-22T21:10:14.190054Z",
     "shell.execute_reply": "2023-11-22T21:10:14.189219Z",
     "shell.execute_reply.started": "2023-11-22T21:10:13.967698Z"
    }
   },
   "outputs": [
    {
     "name": "stdout",
     "output_type": "stream",
     "text": [
      "Decision Tree Model Metrics:\n",
      "Mean Absolute Error: 98967.29102021626\n",
      "Mean Squared Error: 32177635816.80442\n",
      "Root Mean Squared Error: 179381.25826519454\n",
      "R-squared Score: 0.7649402411446665\n"
     ]
    }
   ],
   "source": [
    "\n",
    "dt = DecisionTreeRegressor()\n",
    "dt.fit(X_train,y_train)\n",
    "dt_pred = dt.predict(X_test)\n",
    "dt_mae = mean_absolute_error(y_test, dt_pred)\n",
    "dt_mse = mean_squared_error(y_test, dt_pred)\n",
    "dt_rmse = np.sqrt(dt_mse)\n",
    "dt_r2 = r2_score(y_test, dt_pred)\n",
    "\n",
    "print(\"Decision Tree Model Metrics:\")\n",
    "print(\"Mean Absolute Error:\", dt_mae)\n",
    "print(\"Mean Squared Error:\", dt_mse)\n",
    "print(\"Root Mean Squared Error:\", dt_rmse)\n",
    "print(\"R-squared Score:\", dt_r2)\n",
    "\n"
   ]
  },
  {
   "cell_type": "code",
   "execution_count": 14,
   "metadata": {
    "execution": {
     "iopub.execute_input": "2023-11-22T21:10:14.191452Z",
     "iopub.status.busy": "2023-11-22T21:10:14.191185Z",
     "iopub.status.idle": "2023-11-22T21:10:14.429814Z",
     "shell.execute_reply": "2023-11-22T21:10:14.4292Z",
     "shell.execute_reply.started": "2023-11-22T21:10:14.191425Z"
    }
   },
   "outputs": [
    {
     "name": "stdout",
     "output_type": "stream",
     "text": [
      "Decision Tree Model 1 Metrics:\n",
      "Mean Absolute Error: 97221.43276915843\n",
      "Mean Squared Error: 31077854502.444992\n",
      "Root Mean Squared Error: 176289.12190616014\n",
      "R-squared Score: 0.7729742164192552\n"
     ]
    }
   ],
   "source": [
    "\n",
    "dt1 = DecisionTreeRegressor()\n",
    "dt1.fit(X1_train,y1_train)\n",
    "dt1_pred = dt1.predict(X1_test)\n",
    "\n",
    "dt1_mae = mean_absolute_error(y1_test, dt1_pred)\n",
    "dt1_mse = mean_squared_error(y1_test, dt1_pred)\n",
    "dt1_rmse = np.sqrt(dt1_mse)\n",
    "dt1_r2 = r2_score(y1_test, dt1_pred)\n",
    "\n",
    "print(\"Decision Tree Model 1 Metrics:\")\n",
    "print(\"Mean Absolute Error:\", dt1_mae)\n",
    "print(\"Mean Squared Error:\", dt1_mse)\n",
    "print(\"Root Mean Squared Error:\", dt1_rmse)\n",
    "print(\"R-squared Score:\", dt1_r2)\n",
    "\n"
   ]
  },
  {
   "cell_type": "code",
   "execution_count": 16,
   "metadata": {
    "execution": {
     "iopub.execute_input": "2023-11-22T21:10:14.431439Z",
     "iopub.status.busy": "2023-11-22T21:10:14.430738Z",
     "iopub.status.idle": "2023-11-22T21:10:24.373821Z",
     "shell.execute_reply": "2023-11-22T21:10:24.372943Z",
     "shell.execute_reply.started": "2023-11-22T21:10:14.431417Z"
    }
   },
   "outputs": [
    {
     "name": "stdout",
     "output_type": "stream",
     "text": [
      "Random Forest Model Metrics:\n",
      "Mean Absolute Error: 70120.26772802068\n",
      "Mean Squared Error: 16727359542.427942\n",
      "Root Mean Squared Error: 129334.29376011585\n",
      "R-squared Score: 0.8778055316830901\n"
     ]
    }
   ],
   "source": [
    "\n",
    "rf = RandomForestRegressor()\n",
    "rf.fit(X_train,y_train)\n",
    "rf_pred = rf.predict(X_test)\n",
    "\n",
    "rf_mae = mean_absolute_error(y_test, rf_pred)\n",
    "rf_mse = mean_squared_error(y_test, rf_pred)\n",
    "rf_rmse = np.sqrt(rf_mse)\n",
    "rf_r2 = r2_score(y_test, rf_pred)\n",
    "\n",
    "print(\"Random Forest Model Metrics:\")\n",
    "print(\"Mean Absolute Error:\", rf_mae)\n",
    "print(\"Mean Squared Error:\", rf_mse)\n",
    "print(\"Root Mean Squared Error:\", rf_rmse)\n",
    "print(\"R-squared Score:\", rf_r2)\n"
   ]
  },
  {
   "cell_type": "code",
   "execution_count": null,
   "metadata": {
    "execution": {
     "iopub.execute_input": "2023-11-22T21:10:24.375341Z",
     "iopub.status.busy": "2023-11-22T21:10:24.375035Z",
     "iopub.status.idle": "2023-11-22T21:10:38.77976Z",
     "shell.execute_reply": "2023-11-22T21:10:38.778857Z",
     "shell.execute_reply.started": "2023-11-22T21:10:24.375316Z"
    }
   },
   "outputs": [],
   "source": [
    "\n",
    "rf1 = RandomForestRegressor()\n",
    "rf1.fit(X1_train,y1_train)\n",
    "rf1_pred = rf1.predict(X1_test)\n",
    "rf1_mae = mean_absolute_error(y1_test, rf1_pred)\n",
    "rf1_mse = mean_squared_error(y1_test, rf1_pred)\n",
    "rf1_rmse = np.sqrt(rf1_mse)\n",
    "rf1_r2 = r2_score(y1_test, rf1_pred)\n",
    "\n",
    "print(\"Random Forest Model 1 Metrics:\")\n",
    "print(\"Mean Absolute Error:\", rf1_mae)\n",
    "print(\"Mean Squared Error:\", rf1_mse)\n",
    "print(\"Root Mean Squared Error:\", rf1_rmse)\n",
    "print(\"R-squared Score:\", rf1_r2)\n"
   ]
  },
  {
   "cell_type": "code",
   "execution_count": null,
   "metadata": {
    "execution": {
     "iopub.execute_input": "2023-11-22T21:10:38.783666Z",
     "iopub.status.busy": "2023-11-22T21:10:38.782896Z",
     "iopub.status.idle": "2023-11-22T21:10:39.055776Z",
     "shell.execute_reply": "2023-11-22T21:10:39.055092Z",
     "shell.execute_reply.started": "2023-11-22T21:10:38.783625Z"
    }
   },
   "outputs": [],
   "source": []
  },
  {
   "cell_type": "code",
   "execution_count": null,
   "metadata": {
    "execution": {
     "iopub.execute_input": "2023-11-22T21:10:39.058206Z",
     "iopub.status.busy": "2023-11-22T21:10:39.057859Z",
     "iopub.status.idle": "2023-11-22T21:10:39.363537Z",
     "shell.execute_reply": "2023-11-22T21:10:39.362849Z",
     "shell.execute_reply.started": "2023-11-22T21:10:39.058176Z"
    }
   },
   "outputs": [],
   "source": []
  },
  {
   "cell_type": "code",
   "execution_count": null,
   "metadata": {
    "execution": {
     "iopub.execute_input": "2023-11-22T21:10:39.364877Z",
     "iopub.status.busy": "2023-11-22T21:10:39.364616Z",
     "iopub.status.idle": "2023-11-22T21:10:39.376848Z",
     "shell.execute_reply": "2023-11-22T21:10:39.375647Z",
     "shell.execute_reply.started": "2023-11-22T21:10:39.364856Z"
    }
   },
   "outputs": [],
   "source": []
  },
  {
   "cell_type": "code",
   "execution_count": null,
   "metadata": {},
   "outputs": [],
   "source": []
  }
 ],
 "metadata": {
  "kaggle": {
   "accelerator": "none",
   "dataSources": [
    {
     "datasetId": 128,
     "sourceId": 270,
     "sourceType": "datasetVersion"
    }
   ],
   "dockerImageVersionId": 30587,
   "isGpuEnabled": false,
   "isInternetEnabled": false,
   "language": "python",
   "sourceType": "notebook"
  },
  "kernelspec": {
   "display_name": "Python 3",
   "language": "python",
   "name": "python3"
  },
  "language_info": {
   "codemirror_mode": {
    "name": "ipython",
    "version": 3
   },
   "file_extension": ".py",
   "mimetype": "text/x-python",
   "name": "python",
   "nbconvert_exporter": "python",
   "pygments_lexer": "ipython3",
   "version": "3.8.5"
  }
 },
 "nbformat": 4,
 "nbformat_minor": 4
}
